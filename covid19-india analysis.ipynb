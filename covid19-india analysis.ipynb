{
 "cells": [
  {
   "cell_type": "code",
   "execution_count": 1,
   "metadata": {},
   "outputs": [],
   "source": [
    "import pandas as pd\n",
    "import numpy as np\n",
    "import seaborn as sns\n",
    "import matplotlib.pyplot as plt"
   ]
  },
  {
   "cell_type": "code",
   "execution_count": 15,
   "metadata": {},
   "outputs": [],
   "source": [
    "df=pd.read_csv(r\"C:\\Users\\user\\Downloads\\covid_india.csv\")"
   ]
  },
  {
   "cell_type": "code",
   "execution_count": 16,
   "metadata": {},
   "outputs": [
    {
     "data": {
      "text/html": [
       "<div>\n",
       "<style scoped>\n",
       "    .dataframe tbody tr th:only-of-type {\n",
       "        vertical-align: middle;\n",
       "    }\n",
       "\n",
       "    .dataframe tbody tr th {\n",
       "        vertical-align: top;\n",
       "    }\n",
       "\n",
       "    .dataframe thead th {\n",
       "        text-align: right;\n",
       "    }\n",
       "</style>\n",
       "<table border=\"1\" class=\"dataframe\">\n",
       "  <thead>\n",
       "    <tr style=\"text-align: right;\">\n",
       "      <th></th>\n",
       "      <th>S. No.</th>\n",
       "      <th>Name of State / UT</th>\n",
       "      <th>Active Cases</th>\n",
       "      <th>Cured/Discharged/Migrated</th>\n",
       "      <th>Deaths</th>\n",
       "      <th>Total Confirmed cases</th>\n",
       "    </tr>\n",
       "  </thead>\n",
       "  <tbody>\n",
       "    <tr>\n",
       "      <th>0</th>\n",
       "      <td>1</td>\n",
       "      <td>Andaman and Nicobar</td>\n",
       "      <td>203</td>\n",
       "      <td>6088</td>\n",
       "      <td>76</td>\n",
       "      <td>6367</td>\n",
       "    </tr>\n",
       "    <tr>\n",
       "      <th>1</th>\n",
       "      <td>2</td>\n",
       "      <td>Andhra Pradesh</td>\n",
       "      <td>190632</td>\n",
       "      <td>1088264</td>\n",
       "      <td>8707</td>\n",
       "      <td>1287603</td>\n",
       "    </tr>\n",
       "    <tr>\n",
       "      <th>2</th>\n",
       "      <td>3</td>\n",
       "      <td>Arunachal Pradesh</td>\n",
       "      <td>1933</td>\n",
       "      <td>18172</td>\n",
       "      <td>60</td>\n",
       "      <td>20165</td>\n",
       "    </tr>\n",
       "    <tr>\n",
       "      <th>3</th>\n",
       "      <td>4</td>\n",
       "      <td>Assam</td>\n",
       "      <td>37352</td>\n",
       "      <td>253340</td>\n",
       "      <td>1676</td>\n",
       "      <td>292368</td>\n",
       "    </tr>\n",
       "    <tr>\n",
       "      <th>4</th>\n",
       "      <td>5</td>\n",
       "      <td>Bihar</td>\n",
       "      <td>110805</td>\n",
       "      <td>477389</td>\n",
       "      <td>3282</td>\n",
       "      <td>591476</td>\n",
       "    </tr>\n",
       "    <tr>\n",
       "      <th>5</th>\n",
       "      <td>6</td>\n",
       "      <td>Chandigarh</td>\n",
       "      <td>8511</td>\n",
       "      <td>41128</td>\n",
       "      <td>568</td>\n",
       "      <td>50207</td>\n",
       "    </tr>\n",
       "    <tr>\n",
       "      <th>6</th>\n",
       "      <td>7</td>\n",
       "      <td>Chhattisgarh</td>\n",
       "      <td>126547</td>\n",
       "      <td>714359</td>\n",
       "      <td>10570</td>\n",
       "      <td>851476</td>\n",
       "    </tr>\n",
       "    <tr>\n",
       "      <th>7</th>\n",
       "      <td>8</td>\n",
       "      <td>Dadra and Nagar Haveli and Daman and Diu</td>\n",
       "      <td>1320</td>\n",
       "      <td>7523</td>\n",
       "      <td>4</td>\n",
       "      <td>8847</td>\n",
       "    </tr>\n",
       "    <tr>\n",
       "      <th>8</th>\n",
       "      <td>9</td>\n",
       "      <td>Delhi</td>\n",
       "      <td>86232</td>\n",
       "      <td>1217991</td>\n",
       "      <td>19344</td>\n",
       "      <td>1323567</td>\n",
       "    </tr>\n",
       "    <tr>\n",
       "      <th>9</th>\n",
       "      <td>10</td>\n",
       "      <td>Goa</td>\n",
       "      <td>31875</td>\n",
       "      <td>85292</td>\n",
       "      <td>1679</td>\n",
       "      <td>118846</td>\n",
       "    </tr>\n",
       "    <tr>\n",
       "      <th>10</th>\n",
       "      <td>11</td>\n",
       "      <td>Gujarat</td>\n",
       "      <td>139614</td>\n",
       "      <td>533004</td>\n",
       "      <td>8394</td>\n",
       "      <td>681012</td>\n",
       "    </tr>\n",
       "    <tr>\n",
       "      <th>11</th>\n",
       "      <td>12</td>\n",
       "      <td>Haryana</td>\n",
       "      <td>116867</td>\n",
       "      <td>493425</td>\n",
       "      <td>5605</td>\n",
       "      <td>615897</td>\n",
       "    </tr>\n",
       "    <tr>\n",
       "      <th>12</th>\n",
       "      <td>13</td>\n",
       "      <td>Himachal Pradesh</td>\n",
       "      <td>32469</td>\n",
       "      <td>97069</td>\n",
       "      <td>1885</td>\n",
       "      <td>131423</td>\n",
       "    </tr>\n",
       "    <tr>\n",
       "      <th>13</th>\n",
       "      <td>14</td>\n",
       "      <td>Jammu and Kashmir</td>\n",
       "      <td>49248</td>\n",
       "      <td>164958</td>\n",
       "      <td>2726</td>\n",
       "      <td>216932</td>\n",
       "    </tr>\n",
       "    <tr>\n",
       "      <th>14</th>\n",
       "      <td>15</td>\n",
       "      <td>Jharkhand</td>\n",
       "      <td>58806</td>\n",
       "      <td>223684</td>\n",
       "      <td>3853</td>\n",
       "      <td>286343</td>\n",
       "    </tr>\n",
       "    <tr>\n",
       "      <th>15</th>\n",
       "      <td>16</td>\n",
       "      <td>Karnataka</td>\n",
       "      <td>564505</td>\n",
       "      <td>1351097</td>\n",
       "      <td>18776</td>\n",
       "      <td>1934378</td>\n",
       "    </tr>\n",
       "    <tr>\n",
       "      <th>16</th>\n",
       "      <td>17</td>\n",
       "      <td>Kerala</td>\n",
       "      <td>423863</td>\n",
       "      <td>1472951</td>\n",
       "      <td>5814</td>\n",
       "      <td>1902628</td>\n",
       "    </tr>\n",
       "    <tr>\n",
       "      <th>17</th>\n",
       "      <td>18</td>\n",
       "      <td>Ladakh</td>\n",
       "      <td>1443</td>\n",
       "      <td>13719</td>\n",
       "      <td>155</td>\n",
       "      <td>15317</td>\n",
       "    </tr>\n",
       "    <tr>\n",
       "      <th>18</th>\n",
       "      <td>19</td>\n",
       "      <td>Lakshadweep</td>\n",
       "      <td>1016</td>\n",
       "      <td>2856</td>\n",
       "      <td>9</td>\n",
       "      <td>3881</td>\n",
       "    </tr>\n",
       "    <tr>\n",
       "      <th>19</th>\n",
       "      <td>20</td>\n",
       "      <td>Maharashtra</td>\n",
       "      <td>618070</td>\n",
       "      <td>4407818</td>\n",
       "      <td>75849</td>\n",
       "      <td>5101737</td>\n",
       "    </tr>\n",
       "    <tr>\n",
       "      <th>20</th>\n",
       "      <td>21</td>\n",
       "      <td>Manipur</td>\n",
       "      <td>4280</td>\n",
       "      <td>30598</td>\n",
       "      <td>476</td>\n",
       "      <td>35354</td>\n",
       "    </tr>\n",
       "    <tr>\n",
       "      <th>21</th>\n",
       "      <td>22</td>\n",
       "      <td>Meghalaya</td>\n",
       "      <td>2899</td>\n",
       "      <td>16593</td>\n",
       "      <td>228</td>\n",
       "      <td>19720</td>\n",
       "    </tr>\n",
       "    <tr>\n",
       "      <th>22</th>\n",
       "      <td>23</td>\n",
       "      <td>Mizoram</td>\n",
       "      <td>1847</td>\n",
       "      <td>5755</td>\n",
       "      <td>21</td>\n",
       "      <td>7623</td>\n",
       "    </tr>\n",
       "    <tr>\n",
       "      <th>23</th>\n",
       "      <td>24</td>\n",
       "      <td>Madhya Pradesh</td>\n",
       "      <td>108913</td>\n",
       "      <td>556430</td>\n",
       "      <td>6420</td>\n",
       "      <td>671763</td>\n",
       "    </tr>\n",
       "    <tr>\n",
       "      <th>24</th>\n",
       "      <td>25</td>\n",
       "      <td>Nagaland</td>\n",
       "      <td>2809</td>\n",
       "      <td>13201</td>\n",
       "      <td>140</td>\n",
       "      <td>16150</td>\n",
       "    </tr>\n",
       "    <tr>\n",
       "      <th>25</th>\n",
       "      <td>26</td>\n",
       "      <td>Odisha</td>\n",
       "      <td>84799</td>\n",
       "      <td>447863</td>\n",
       "      <td>2180</td>\n",
       "      <td>534842</td>\n",
       "    </tr>\n",
       "    <tr>\n",
       "      <th>26</th>\n",
       "      <td>27</td>\n",
       "      <td>Puducherry</td>\n",
       "      <td>14034</td>\n",
       "      <td>56710</td>\n",
       "      <td>965</td>\n",
       "      <td>71709</td>\n",
       "    </tr>\n",
       "    <tr>\n",
       "      <th>27</th>\n",
       "      <td>28</td>\n",
       "      <td>Punjab</td>\n",
       "      <td>74343</td>\n",
       "      <td>357276</td>\n",
       "      <td>10506</td>\n",
       "      <td>442125</td>\n",
       "    </tr>\n",
       "    <tr>\n",
       "      <th>28</th>\n",
       "      <td>29</td>\n",
       "      <td>Rajasthan</td>\n",
       "      <td>200189</td>\n",
       "      <td>550853</td>\n",
       "      <td>5665</td>\n",
       "      <td>756707</td>\n",
       "    </tr>\n",
       "    <tr>\n",
       "      <th>29</th>\n",
       "      <td>30</td>\n",
       "      <td>Sikkim</td>\n",
       "      <td>2637</td>\n",
       "      <td>7074</td>\n",
       "      <td>167</td>\n",
       "      <td>9878</td>\n",
       "    </tr>\n",
       "    <tr>\n",
       "      <th>30</th>\n",
       "      <td>31</td>\n",
       "      <td>Tamil Nadu</td>\n",
       "      <td>144547</td>\n",
       "      <td>1220064</td>\n",
       "      <td>15648</td>\n",
       "      <td>1380259</td>\n",
       "    </tr>\n",
       "    <tr>\n",
       "      <th>31</th>\n",
       "      <td>32</td>\n",
       "      <td>Telengana</td>\n",
       "      <td>65757</td>\n",
       "      <td>428865</td>\n",
       "      <td>2739</td>\n",
       "      <td>497361</td>\n",
       "    </tr>\n",
       "    <tr>\n",
       "      <th>32</th>\n",
       "      <td>33</td>\n",
       "      <td>Tripura</td>\n",
       "      <td>2750</td>\n",
       "      <td>34532</td>\n",
       "      <td>410</td>\n",
       "      <td>37692</td>\n",
       "    </tr>\n",
       "    <tr>\n",
       "      <th>33</th>\n",
       "      <td>34</td>\n",
       "      <td>Uttar Pradesh</td>\n",
       "      <td>233981</td>\n",
       "      <td>1254045</td>\n",
       "      <td>15464</td>\n",
       "      <td>1503490</td>\n",
       "    </tr>\n",
       "    <tr>\n",
       "      <th>34</th>\n",
       "      <td>35</td>\n",
       "      <td>Uttarakhand</td>\n",
       "      <td>74114</td>\n",
       "      <td>166431</td>\n",
       "      <td>3728</td>\n",
       "      <td>244273</td>\n",
       "    </tr>\n",
       "    <tr>\n",
       "      <th>35</th>\n",
       "      <td>36</td>\n",
       "      <td>West Bengal</td>\n",
       "      <td>126027</td>\n",
       "      <td>854805</td>\n",
       "      <td>12327</td>\n",
       "      <td>993159</td>\n",
       "    </tr>\n",
       "  </tbody>\n",
       "</table>\n",
       "</div>"
      ],
      "text/plain": [
       "    S. No.                        Name of State / UT  Active Cases  \\\n",
       "0        1                       Andaman and Nicobar           203   \n",
       "1        2                            Andhra Pradesh        190632   \n",
       "2        3                         Arunachal Pradesh          1933   \n",
       "3        4                                     Assam         37352   \n",
       "4        5                                     Bihar        110805   \n",
       "5        6                                Chandigarh          8511   \n",
       "6        7                              Chhattisgarh        126547   \n",
       "7        8  Dadra and Nagar Haveli and Daman and Diu          1320   \n",
       "8        9                                     Delhi         86232   \n",
       "9       10                                       Goa         31875   \n",
       "10      11                                   Gujarat        139614   \n",
       "11      12                                   Haryana        116867   \n",
       "12      13                          Himachal Pradesh         32469   \n",
       "13      14                         Jammu and Kashmir         49248   \n",
       "14      15                                 Jharkhand         58806   \n",
       "15      16                                 Karnataka        564505   \n",
       "16      17                                    Kerala        423863   \n",
       "17      18                                    Ladakh          1443   \n",
       "18      19                               Lakshadweep          1016   \n",
       "19      20                               Maharashtra        618070   \n",
       "20      21                                   Manipur          4280   \n",
       "21      22                                 Meghalaya          2899   \n",
       "22      23                                   Mizoram          1847   \n",
       "23      24                            Madhya Pradesh        108913   \n",
       "24      25                                  Nagaland          2809   \n",
       "25      26                                    Odisha         84799   \n",
       "26      27                                Puducherry         14034   \n",
       "27      28                                    Punjab         74343   \n",
       "28      29                                 Rajasthan        200189   \n",
       "29      30                                    Sikkim          2637   \n",
       "30      31                                Tamil Nadu        144547   \n",
       "31      32                                 Telengana         65757   \n",
       "32      33                                   Tripura          2750   \n",
       "33      34                             Uttar Pradesh        233981   \n",
       "34      35                               Uttarakhand         74114   \n",
       "35      36                               West Bengal        126027   \n",
       "\n",
       "    Cured/Discharged/Migrated  Deaths  Total Confirmed cases  \n",
       "0                        6088      76                   6367  \n",
       "1                     1088264    8707                1287603  \n",
       "2                       18172      60                  20165  \n",
       "3                      253340    1676                 292368  \n",
       "4                      477389    3282                 591476  \n",
       "5                       41128     568                  50207  \n",
       "6                      714359   10570                 851476  \n",
       "7                        7523       4                   8847  \n",
       "8                     1217991   19344                1323567  \n",
       "9                       85292    1679                 118846  \n",
       "10                     533004    8394                 681012  \n",
       "11                     493425    5605                 615897  \n",
       "12                      97069    1885                 131423  \n",
       "13                     164958    2726                 216932  \n",
       "14                     223684    3853                 286343  \n",
       "15                    1351097   18776                1934378  \n",
       "16                    1472951    5814                1902628  \n",
       "17                      13719     155                  15317  \n",
       "18                       2856       9                   3881  \n",
       "19                    4407818   75849                5101737  \n",
       "20                      30598     476                  35354  \n",
       "21                      16593     228                  19720  \n",
       "22                       5755      21                   7623  \n",
       "23                     556430    6420                 671763  \n",
       "24                      13201     140                  16150  \n",
       "25                     447863    2180                 534842  \n",
       "26                      56710     965                  71709  \n",
       "27                     357276   10506                 442125  \n",
       "28                     550853    5665                 756707  \n",
       "29                       7074     167                   9878  \n",
       "30                    1220064   15648                1380259  \n",
       "31                     428865    2739                 497361  \n",
       "32                      34532     410                  37692  \n",
       "33                    1254045   15464                1503490  \n",
       "34                     166431    3728                 244273  \n",
       "35                     854805   12327                 993159  "
      ]
     },
     "execution_count": 16,
     "metadata": {},
     "output_type": "execute_result"
    }
   ],
   "source": [
    "df"
   ]
  },
  {
   "cell_type": "code",
   "execution_count": 17,
   "metadata": {},
   "outputs": [
    {
     "data": {
      "text/html": [
       "<div>\n",
       "<style scoped>\n",
       "    .dataframe tbody tr th:only-of-type {\n",
       "        vertical-align: middle;\n",
       "    }\n",
       "\n",
       "    .dataframe tbody tr th {\n",
       "        vertical-align: top;\n",
       "    }\n",
       "\n",
       "    .dataframe thead th {\n",
       "        text-align: right;\n",
       "    }\n",
       "</style>\n",
       "<table border=\"1\" class=\"dataframe\">\n",
       "  <thead>\n",
       "    <tr style=\"text-align: right;\">\n",
       "      <th></th>\n",
       "      <th>S. No.</th>\n",
       "      <th>Name of State / UT</th>\n",
       "      <th>Active Cases</th>\n",
       "      <th>Cured/Discharged/Migrated</th>\n",
       "      <th>Deaths</th>\n",
       "      <th>Total Confirmed cases</th>\n",
       "    </tr>\n",
       "  </thead>\n",
       "  <tbody>\n",
       "    <tr>\n",
       "      <th>0</th>\n",
       "      <td>1</td>\n",
       "      <td>Andaman and Nicobar</td>\n",
       "      <td>203</td>\n",
       "      <td>6088</td>\n",
       "      <td>76</td>\n",
       "      <td>6367</td>\n",
       "    </tr>\n",
       "    <tr>\n",
       "      <th>1</th>\n",
       "      <td>2</td>\n",
       "      <td>Andhra Pradesh</td>\n",
       "      <td>190632</td>\n",
       "      <td>1088264</td>\n",
       "      <td>8707</td>\n",
       "      <td>1287603</td>\n",
       "    </tr>\n",
       "    <tr>\n",
       "      <th>2</th>\n",
       "      <td>3</td>\n",
       "      <td>Arunachal Pradesh</td>\n",
       "      <td>1933</td>\n",
       "      <td>18172</td>\n",
       "      <td>60</td>\n",
       "      <td>20165</td>\n",
       "    </tr>\n",
       "    <tr>\n",
       "      <th>3</th>\n",
       "      <td>4</td>\n",
       "      <td>Assam</td>\n",
       "      <td>37352</td>\n",
       "      <td>253340</td>\n",
       "      <td>1676</td>\n",
       "      <td>292368</td>\n",
       "    </tr>\n",
       "    <tr>\n",
       "      <th>4</th>\n",
       "      <td>5</td>\n",
       "      <td>Bihar</td>\n",
       "      <td>110805</td>\n",
       "      <td>477389</td>\n",
       "      <td>3282</td>\n",
       "      <td>591476</td>\n",
       "    </tr>\n",
       "  </tbody>\n",
       "</table>\n",
       "</div>"
      ],
      "text/plain": [
       "   S. No.   Name of State / UT  Active Cases  Cured/Discharged/Migrated  \\\n",
       "0       1  Andaman and Nicobar           203                       6088   \n",
       "1       2       Andhra Pradesh        190632                    1088264   \n",
       "2       3    Arunachal Pradesh          1933                      18172   \n",
       "3       4                Assam         37352                     253340   \n",
       "4       5                Bihar        110805                     477389   \n",
       "\n",
       "   Deaths  Total Confirmed cases  \n",
       "0      76                   6367  \n",
       "1    8707                1287603  \n",
       "2      60                  20165  \n",
       "3    1676                 292368  \n",
       "4    3282                 591476  "
      ]
     },
     "execution_count": 17,
     "metadata": {},
     "output_type": "execute_result"
    }
   ],
   "source": [
    "df.head()"
   ]
  },
  {
   "cell_type": "code",
   "execution_count": 18,
   "metadata": {},
   "outputs": [
    {
     "data": {
      "text/plain": [
       "Index([u'S. No.', u'Name of State / UT', u'Active Cases',\n",
       "       u'Cured/Discharged/Migrated', u'Deaths', u'Total Confirmed cases'],\n",
       "      dtype='object')"
      ]
     },
     "execution_count": 18,
     "metadata": {},
     "output_type": "execute_result"
    }
   ],
   "source": [
    "df.columns"
   ]
  },
  {
   "cell_type": "code",
   "execution_count": 19,
   "metadata": {},
   "outputs": [
    {
     "data": {
      "text/html": [
       "<div>\n",
       "<style scoped>\n",
       "    .dataframe tbody tr th:only-of-type {\n",
       "        vertical-align: middle;\n",
       "    }\n",
       "\n",
       "    .dataframe tbody tr th {\n",
       "        vertical-align: top;\n",
       "    }\n",
       "\n",
       "    .dataframe thead th {\n",
       "        text-align: right;\n",
       "    }\n",
       "</style>\n",
       "<table border=\"1\" class=\"dataframe\">\n",
       "  <thead>\n",
       "    <tr style=\"text-align: right;\">\n",
       "      <th></th>\n",
       "      <th>S. No.</th>\n",
       "      <th>Active Cases</th>\n",
       "      <th>Cured/Discharged/Migrated</th>\n",
       "      <th>Deaths</th>\n",
       "      <th>Total Confirmed cases</th>\n",
       "    </tr>\n",
       "  </thead>\n",
       "  <tbody>\n",
       "    <tr>\n",
       "      <th>count</th>\n",
       "      <td>36.000000</td>\n",
       "      <td>36.000000</td>\n",
       "      <td>3.600000e+01</td>\n",
       "      <td>36.000000</td>\n",
       "      <td>3.600000e+01</td>\n",
       "    </tr>\n",
       "    <tr>\n",
       "      <th>mean</th>\n",
       "      <td>18.500000</td>\n",
       "      <td>104034.361111</td>\n",
       "      <td>5.186451e+05</td>\n",
       "      <td>6836.555556</td>\n",
       "      <td>6.295160e+05</td>\n",
       "    </tr>\n",
       "    <tr>\n",
       "      <th>std</th>\n",
       "      <td>10.535654</td>\n",
       "      <td>148477.688878</td>\n",
       "      <td>8.068432e+05</td>\n",
       "      <td>13104.227120</td>\n",
       "      <td>9.512854e+05</td>\n",
       "    </tr>\n",
       "    <tr>\n",
       "      <th>min</th>\n",
       "      <td>1.000000</td>\n",
       "      <td>203.000000</td>\n",
       "      <td>2.856000e+03</td>\n",
       "      <td>4.000000</td>\n",
       "      <td>3.881000e+03</td>\n",
       "    </tr>\n",
       "    <tr>\n",
       "      <th>25%</th>\n",
       "      <td>9.750000</td>\n",
       "      <td>2876.500000</td>\n",
       "      <td>2.749150e+04</td>\n",
       "      <td>364.500000</td>\n",
       "      <td>3.155675e+04</td>\n",
       "    </tr>\n",
       "    <tr>\n",
       "      <th>50%</th>\n",
       "      <td>18.500000</td>\n",
       "      <td>62281.500000</td>\n",
       "      <td>2.385120e+05</td>\n",
       "      <td>2732.500000</td>\n",
       "      <td>2.893555e+05</td>\n",
       "    </tr>\n",
       "    <tr>\n",
       "      <th>75%</th>\n",
       "      <td>27.250000</td>\n",
       "      <td>126157.000000</td>\n",
       "      <td>5.959122e+05</td>\n",
       "      <td>8472.250000</td>\n",
       "      <td>7.803992e+05</td>\n",
       "    </tr>\n",
       "    <tr>\n",
       "      <th>max</th>\n",
       "      <td>36.000000</td>\n",
       "      <td>618070.000000</td>\n",
       "      <td>4.407818e+06</td>\n",
       "      <td>75849.000000</td>\n",
       "      <td>5.101737e+06</td>\n",
       "    </tr>\n",
       "  </tbody>\n",
       "</table>\n",
       "</div>"
      ],
      "text/plain": [
       "          S. No.   Active Cases  Cured/Discharged/Migrated        Deaths  \\\n",
       "count  36.000000      36.000000               3.600000e+01     36.000000   \n",
       "mean   18.500000  104034.361111               5.186451e+05   6836.555556   \n",
       "std    10.535654  148477.688878               8.068432e+05  13104.227120   \n",
       "min     1.000000     203.000000               2.856000e+03      4.000000   \n",
       "25%     9.750000    2876.500000               2.749150e+04    364.500000   \n",
       "50%    18.500000   62281.500000               2.385120e+05   2732.500000   \n",
       "75%    27.250000  126157.000000               5.959122e+05   8472.250000   \n",
       "max    36.000000  618070.000000               4.407818e+06  75849.000000   \n",
       "\n",
       "       Total Confirmed cases  \n",
       "count           3.600000e+01  \n",
       "mean            6.295160e+05  \n",
       "std             9.512854e+05  \n",
       "min             3.881000e+03  \n",
       "25%             3.155675e+04  \n",
       "50%             2.893555e+05  \n",
       "75%             7.803992e+05  \n",
       "max             5.101737e+06  "
      ]
     },
     "execution_count": 19,
     "metadata": {},
     "output_type": "execute_result"
    }
   ],
   "source": [
    "df.describe()"
   ]
  },
  {
   "cell_type": "code",
   "execution_count": 20,
   "metadata": {},
   "outputs": [
    {
     "data": {
      "text/plain": [
       "S. No.                       0\n",
       "Name of State / UT           0\n",
       "Active Cases                 0\n",
       "Cured/Discharged/Migrated    0\n",
       "Deaths                       0\n",
       "Total Confirmed cases        0\n",
       "dtype: int64"
      ]
     },
     "execution_count": 20,
     "metadata": {},
     "output_type": "execute_result"
    }
   ],
   "source": [
    "df.isnull().sum()"
   ]
  },
  {
   "cell_type": "code",
   "execution_count": 21,
   "metadata": {},
   "outputs": [
    {
     "data": {
      "text/plain": [
       "Index([u'S. No.', u'Name of State / UT', u'Active Cases',\n",
       "       u'Cured/Discharged/Migrated', u'Deaths', u'Total Confirmed cases'],\n",
       "      dtype='object')"
      ]
     },
     "execution_count": 21,
     "metadata": {},
     "output_type": "execute_result"
    }
   ],
   "source": [
    "df.columns"
   ]
  },
  {
   "cell_type": "markdown",
   "metadata": {},
   "source": [
    "# relating the variables the scatterplot"
   ]
  },
  {
   "cell_type": "code",
   "execution_count": 31,
   "metadata": {
    "scrolled": true
   },
   "outputs": [
    {
     "data": {
      "text/plain": [
       "<seaborn.axisgrid.FacetGrid at 0xdb034e0>"
      ]
     },
     "execution_count": 31,
     "metadata": {},
     "output_type": "execute_result"
    },
    {
     "data": {
      "image/png": "[encoded data removed]",
      "text/plain": [
       "<Figure size 431.5x360 with 1 Axes>"
      ]
     },
     "metadata": {
      "needs_background": "light"
     },
     "output_type": "display_data"
    }
   ],
   "source": [
    "sns.relplot(x=\"Total Confirmed cases\",y=\"Active Cases\",hue=\"Deaths\",data=df)"
   ]
  },
  {
   "cell_type": "code",
   "execution_count": 32,
   "metadata": {},
   "outputs": [
    {
     "data": {
      "text/plain": [
       "<seaborn.axisgrid.PairGrid at 0xd45fb00>"
      ]
     },
     "execution_count": 32,
     "metadata": {},
     "output_type": "execute_result"
    },
    {
     "data": {
      "image/png": "[encoded data removed]",
      "text/plain": [
       "<Figure size 900x900 with 30 Axes>"
      ]
     },
     "metadata": {
      "needs_background": "light"
     },
     "output_type": "display_data"
    }
   ],
   "source": [
    "sns.pairplot(df)"
   ]
  },
  {
   "cell_type": "code",
   "execution_count": 33,
   "metadata": {},
   "outputs": [
    {
     "data": {
      "text/plain": [
       "Index([u'S. No.', u'Name of State / UT', u'Active Cases',\n",
       "       u'Cured/Discharged/Migrated', u'Deaths', u'Total Confirmed cases'],\n",
       "      dtype='object')"
      ]
     },
     "execution_count": 33,
     "metadata": {},
     "output_type": "execute_result"
    }
   ],
   "source": [
    "df.columns"
   ]
  },
  {
   "cell_type": "code",
   "execution_count": 35,
   "metadata": {},
   "outputs": [
    {
     "data": {
      "text/plain": [
       "<seaborn.axisgrid.FacetGrid at 0xf7aa198>"
      ]
     },
     "execution_count": 35,
     "metadata": {},
     "output_type": "execute_result"
    },
    {
     "data": {
      "image/png": "[encoded data removed]",
      "text/plain": [
       "<Figure size 360x360 with 1 Axes>"
      ]
     },
     "metadata": {
      "needs_background": "light"
     },
     "output_type": "display_data"
    }
   ],
   "source": [
    "sns.relplot(x=\"Total Confirmed cases\",y=\"Active Cases\",kind=\"line\",data=df)"
   ]
  },
  {
   "cell_type": "code",
   "execution_count": 36,
   "metadata": {},
   "outputs": [
    {
     "data": {
      "text/plain": [
       "<seaborn.axisgrid.FacetGrid at 0xce9eba8>"
      ]
     },
     "execution_count": 36,
     "metadata": {},
     "output_type": "execute_result"
    },
    {
     "data": {
      "image/png": "[encoded data removed]",
      "text/plain": [
       "<Figure size 360x360 with 1 Axes>"
      ]
     },
     "metadata": {
      "needs_background": "light"
     },
     "output_type": "display_data"
    }
   ],
   "source": [
    "sns.catplot(x=\"Total Confirmed cases\",y=\"Active Cases\",data=df)"
   ]
  },
  {
   "cell_type": "code",
   "execution_count": null,
   "metadata": {},
   "outputs": [],
   "source": []
  }
 ],
 "metadata": {
  "kernelspec": {
   "display_name": "Python 2",
   "language": "python",
   "name": "python2"
  },
  "language_info": {
   "codemirror_mode": {
    "name": "ipython",
    "version": 2
   },
   "file_extension": ".py",
   "mimetype": "text/x-python",
   "name": "python",
   "nbconvert_exporter": "python",
   "pygments_lexer": "ipython2",
   "version": "2.7.16"
  }
 },
 "nbformat": 4,
 "nbformat_minor": 2
}
